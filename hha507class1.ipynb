{
  "nbformat": 4,
  "nbformat_minor": 0,
  "metadata": {
    "colab": {
      "provenance": [],
      "authorship_tag": "ABX9TyNm1DM0Vwzw2EyYJBEroXbS",
      "include_colab_link": true
    },
    "kernelspec": {
      "name": "python3",
      "display_name": "Python 3"
    },
    "language_info": {
      "name": "python"
    }
  },
  "cells": [
    {
      "cell_type": "markdown",
      "metadata": {
        "id": "view-in-github",
        "colab_type": "text"
      },
      "source": [
        "<a href=\"https://colab.research.google.com/github/hantswilliams/google-colab/blob/main/hha507class1.ipynb\" target=\"_parent\"><img src=\"https://colab.research.google.com/assets/colab-badge.svg\" alt=\"Open In Colab\"/></a>"
      ]
    },
    {
      "cell_type": "markdown",
      "source": [
        "# Loading packages\n"
      ],
      "metadata": {
        "id": "3emrCyrGzKld"
      }
    },
    {
      "cell_type": "code",
      "source": [
        "import pandas as pd\n",
        "import seaborn as sns\n",
        "import plotly as plt"
      ],
      "metadata": {
        "id": "ltzv8wrNzTaV"
      },
      "execution_count": null,
      "outputs": []
    },
    {
      "cell_type": "code",
      "source": [
        "!pip freeze > packages.txt"
      ],
      "metadata": {
        "id": "XegXGVPrzZG6"
      },
      "execution_count": null,
      "outputs": []
    },
    {
      "cell_type": "markdown",
      "source": [
        "# Creating Functions"
      ],
      "metadata": {
        "id": "KgZ_4hIixspj"
      }
    },
    {
      "cell_type": "code",
      "execution_count": null,
      "metadata": {
        "id": "JWpYPOEzwI6v"
      },
      "outputs": [],
      "source": [
        "def bloodpress(systolic, diastolic):\n",
        "  total = systolic + diastolic\n",
        "  return total"
      ]
    },
    {
      "cell_type": "code",
      "source": [
        "def bloodsugar(value):\n",
        "  valuetoprint = f\"Your blood sugar is {value}\"\n",
        "  return valuetoprint"
      ],
      "metadata": {
        "id": "gNbruEZux65a"
      },
      "execution_count": null,
      "outputs": []
    },
    {
      "cell_type": "code",
      "source": [],
      "metadata": {
        "id": "LotIcOy5zKRb"
      },
      "execution_count": null,
      "outputs": []
    },
    {
      "cell_type": "markdown",
      "source": [
        "# Testing Function"
      ],
      "metadata": {
        "id": "Ur4pITntyWZz"
      }
    },
    {
      "cell_type": "code",
      "source": [
        "# Test for Blood Pressure\n",
        "\n",
        "test1 = bloodpress(190, 155)\n",
        "test1"
      ],
      "metadata": {
        "colab": {
          "base_uri": "https://localhost:8080/"
        },
        "id": "kqKuoXVayZci",
        "outputId": "ad132563-9322-4e9c-d50f-a4a4e5fbd998"
      },
      "execution_count": null,
      "outputs": [
        {
          "output_type": "execute_result",
          "data": {
            "text/plain": [
              "345"
            ]
          },
          "metadata": {},
          "execution_count": 5
        }
      ]
    },
    {
      "cell_type": "code",
      "source": [
        "test2 = bloodsugar(200)\n",
        "print(test2)"
      ],
      "metadata": {
        "colab": {
          "base_uri": "https://localhost:8080/"
        },
        "id": "Awl-q9yay3I8",
        "outputId": "3a65e65a-5fef-4f79-92a2-ddc8651a12fd"
      },
      "execution_count": null,
      "outputs": [
        {
          "output_type": "stream",
          "name": "stdout",
          "text": [
            "Your blood sugar is 200\n"
          ]
        }
      ]
    },
    {
      "cell_type": "code",
      "source": [
        "test3 = bloodsugar(500)\n",
        "print(test3)"
      ],
      "metadata": {
        "colab": {
          "base_uri": "https://localhost:8080/"
        },
        "id": "1N6YnM913HbU",
        "outputId": "fc5c60ed-e649-444f-f853-8f89a2e734d4"
      },
      "execution_count": 12,
      "outputs": [
        {
          "output_type": "stream",
          "name": "stdout",
          "text": [
            "Your blood sugar is 500\n"
          ]
        }
      ]
    },
    {
      "cell_type": "code",
      "source": [
        "print(f\"\\n {test2} \\n {test3}\")"
      ],
      "metadata": {
        "colab": {
          "base_uri": "https://localhost:8080/"
        },
        "id": "SZCBcaNN3LW8",
        "outputId": "a51815da-5404-4d42-db85-9cf1cd9dfc61"
      },
      "execution_count": 13,
      "outputs": [
        {
          "output_type": "stream",
          "name": "stdout",
          "text": [
            "\n",
            " Your blood sugar is 200 \n",
            " Your blood sugar is 500\n"
          ]
        }
      ]
    }
  ]
}